{
 "cells": [
  {
   "cell_type": "code",
   "execution_count": 1,
   "id": "a43c3b13",
   "metadata": {},
   "outputs": [
    {
     "name": "stdout",
     "output_type": "stream",
     "text": [
      "6\n"
     ]
    }
   ],
   "source": [
    "#exercice 1\n",
    "#crééons une liste ci dessous \n",
    "exo1 = [1,2,3]\n",
    "#nous voulons multiplier les membres de la liste par eux mêmes pour se faire, nous allons utiliser les index \n",
    "print(exo1[0]*exo1[1]*exo1[2])"
   ]
  },
  {
   "cell_type": "code",
   "execution_count": 2,
   "id": "f1cb6531",
   "metadata": {},
   "outputs": [
    {
     "name": "stdout",
     "output_type": "stream",
     "text": [
      "[(2, 1), (1, 2), (2, 3), (4, 4), (2, 5)]\n"
     ]
    }
   ],
   "source": [
    "    \n",
    "#exercice 2\n",
    "#crééons une fonction qui nous permet de séléction le deuxième terme de chaque tuple\n",
    "def deuxieme(item):\n",
    "    return item[1]\n",
    "#crééons une liste de tuple au choix\n",
    "exo2 = [(2, 5), (1, 2), (4, 4), (2, 3), (2, 1)]\n",
    "#pour classer une liste, on utilise sorted() ainsi, nous allons utiliser cette fonction mais en indiquant que l'on souhaite classer que le deuxième item de chaque tuple à l'aide de notre fonction\n",
    "exo2.sort(key=deuxieme)\n",
    "print(exo2)"
   ]
  },
  {
   "cell_type": "code",
   "execution_count": 3,
   "id": "cf7b9b68",
   "metadata": {},
   "outputs": [
    {
     "name": "stdout",
     "output_type": "stream",
     "text": [
      "{'a': 400, 'b': 400, 'd': 400, 'c': 300}\n"
     ]
    }
   ],
   "source": [
    "#exercice 3\n",
    "d1 = {'a': 100, 'b': 200, 'c':300}\n",
    "\n",
    "d2 = {'a': 300, 'b': 200, 'd':400}\n",
    "\n",
    "#ci dessus nos deux dictionnaires, nous voulons maintenant additionner les valeurs ayant les memes keys pour se faire, nous allons poser une fonction ainsi qu'une condition dans cette dernière de telle sorte à avoir: \n",
    "for x in d1:\n",
    "    if x in d2:\n",
    "        d2[x]=d1[x]+d2[x]\n",
    "    else:\n",
    "        d2[x]=d1[x]\n",
    "print (d2)"
   ]
  },
  {
   "cell_type": "code",
   "execution_count": 4,
   "id": "5a07e1f5",
   "metadata": {},
   "outputs": [
    {
     "name": "stdout",
     "output_type": "stream",
     "text": [
      "entrez un nombre: 9\n",
      "{1: 1, 2: 4, 3: 9, 4: 16, 5: 25, 6: 36, 7: 49, 8: 64, 9: 81}\n"
     ]
    }
   ],
   "source": [
    "#exercice 4\n",
    "n = int(input('entrez un nombre: '))\n",
    "#nous voulons un dictionnaire qui contient des nombres de 1 à n sous la forme (x: x*x) posons:\n",
    "exo4 = {x:x*x for x in range(1,n+1)}\n",
    "   \n",
    "print(exo4)\n",
    "\n"
   ]
  },
  {
   "cell_type": "code",
   "execution_count": 5,
   "id": "7a7d8465",
   "metadata": {},
   "outputs": [
    {
     "name": "stdout",
     "output_type": "stream",
     "text": [
      "[('item3', '24.5'), ('item2', '15.10'), ('item1', '12.20')]\n"
     ]
    }
   ],
   "source": [
    "#exo5\n",
    "exo5 = [('item1', '12.20'), ('item2', '15.10'), ('item3', '24.5')]\n",
    "# créons une variable où l'on veut mettre en ordre décroissant ces tuples mais en utilisant que les deuxième terme de chaque tuple\n",
    "exo5_ = sorted(exo5, key=lambda x: float(x[1]), reverse = True )\n",
    "print(exo5_)"
   ]
  },
  {
   "cell_type": "code",
   "execution_count": 7,
   "id": "c07be503",
   "metadata": {},
   "outputs": [
    {
     "name": "stdout",
     "output_type": "stream",
     "text": [
      "mettez un ensemble: oo ii ii\n",
      "{'oo ii ii'}\n",
      "oo ii ii\n",
      "rajoutez un élémentll\n",
      "{'oo ii ii', 'll'}\n",
      "quel élément souhaitez vous retirer: ll\n",
      "{'oo ii ii'}\n"
     ]
    }
   ],
   "source": [
    "# exercice 6\n",
    "y = input(\"mettez un ensemble: \")\n",
    "exo6 = {y}\n",
    "print( exo6)\n",
    "\n",
    "for exo6_ in exo6:\n",
    "    print(exo6_)\n",
    "    \n",
    "# pour ajouter des éléments: \n",
    "exo6.add(input('rajoutez un élément'))\n",
    "print(exo6)\n",
    "\n",
    "#pour retirer un élément\n",
    "exo6.remove(input('quel élément souhaitez vous retirer: '))\n",
    "print(exo6)\n",
    "\n"
   ]
  },
  {
   "cell_type": "code",
   "execution_count": null,
   "id": "47d78287",
   "metadata": {},
   "outputs": [],
   "source": []
  }
 ],
 "metadata": {
  "kernelspec": {
   "display_name": "Python 3 (ipykernel)",
   "language": "python",
   "name": "python3"
  },
  "language_info": {
   "codemirror_mode": {
    "name": "ipython",
    "version": 3
   },
   "file_extension": ".py",
   "mimetype": "text/x-python",
   "name": "python",
   "nbconvert_exporter": "python",
   "pygments_lexer": "ipython3",
   "version": "3.9.13"
  }
 },
 "nbformat": 4,
 "nbformat_minor": 5
}
